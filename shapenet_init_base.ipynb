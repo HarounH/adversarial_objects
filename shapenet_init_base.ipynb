{
 "cells": [
  {
   "cell_type": "code",
   "execution_count": 51,
   "metadata": {},
   "outputs": [
    {
     "name": "stdout",
     "output_type": "stream",
     "text": [
      "The autoreload extension is already loaded. To reload it, use:\n",
      "  %reload_ext autoreload\n"
     ]
    }
   ],
   "source": [
    "%load_ext autoreload\n",
    "%autoreload 2\n",
    "%matplotlib inline\n",
    "import os\n",
    "import json\n",
    "import copy\n",
    "from collections import defaultdict\n",
    "import pickle\n",
    "import torch\n",
    "import matplotlib.pyplot as plt\n",
    "import neural_renderer as nr\n",
    "from adversarial_objects.modules import wavefront, combiner\n",
    "import numpy as np"
   ]
  },
  {
   "cell_type": "code",
   "execution_count": 45,
   "metadata": {},
   "outputs": [],
   "source": [
    "edited_shapenet_json = defaultdict(list)"
   ]
  },
  {
   "cell_type": "code",
   "execution_count": 46,
   "metadata": {},
   "outputs": [],
   "source": [
    "TEXTURE_SIZE = 4\n",
    "adv_obj = wavefront.load_obj(\n",
    "    'cube',\n",
    "    texture_size=TEXTURE_SIZE,\n",
    "    adv_tex=True,\n",
    "    adv_ver=True,\n",
    "    rng_tex=True,\n",
    ")\n",
    "nobj = 1"
   ]
  },
  {
   "cell_type": "code",
   "execution_count": 47,
   "metadata": {},
   "outputs": [],
   "source": [
    "shapenet_json_file = 'adversarial_objects/data/shapenet_model_list.json'\n",
    "with open(shapenet_json_file, 'r') as f:\n",
    "    shapenet_json = json.load(f)\n",
    "\n",
    "len(shapenet_json)\n",
    "# TODO: Change this\n",
    "todo_keys = sorted([k for k, _ in shapenet_json.items()])\n",
    "renderer = nr.Renderer(camera_mode='look_at', image_size=299)"
   ]
  },
  {
   "cell_type": "code",
   "execution_count": 59,
   "metadata": {},
   "outputs": [
    {
     "name": "stdout",
     "output_type": "stream",
     "text": [
      "Doing shapenet.bag.0\n"
     ]
    },
    {
     "data": {
      "image/png": "[encoded data removed]",
      "text/plain": [
       "<Figure size 720x720 with 1 Axes>"
      ]
     },
     "metadata": {
      "needs_background": "light"
     },
     "output_type": "display_data"
    }
   ],
   "source": [
    "doing = 0\n",
    "good = False\n",
    "print('Doing {}'.format(todo_keys[doing]))\n",
    "original_model_info = shapenet_json[todo_keys[doing]]\n",
    "editing_model_info = copy.deepcopy(original_model_info)\n",
    "\n",
    "editing_model_info['translation_param_init'] = {\n",
    "            'group': [0.0, 0.0, 0.0],\n",
    "            'random_multiplier': [0.02, 0.02, 0.02],\n",
    "            'circle_radius': [0.0, 0.4, 0.4],\n",
    "}\n",
    "editing_model_info['scaling_param_init'] = {\n",
    "    'multiplier': [0.15, 0.15, 0.15],\n",
    "}\n",
    "editing_model_info['rotation_param_init'] = {\n",
    "    'absolute': [0.0, 0.0, 0.0],\n",
    "}\n",
    "\n",
    "editing_model_info['rendering'] = {\n",
    "    'camera_distance': 2.72,\n",
    "    'elevation': 5.0,\n",
    "    'azimuth': 90.0,\n",
    "}\n",
    "\n",
    "editing_model_info['base_object_init'] = {\n",
    "    # Translate first then scale.\n",
    "    'translation': [0.0, 0.0, 0.0],\n",
    "    'scale': 1.0,\n",
    "}\n",
    "\n",
    "# TODO: Visualize and edit and stuff\n",
    "with torch.no_grad():\n",
    "    bv, bf, bt = nr.load_obj(editing_model_info['wavefront_file'], load_texture=True, texture_size=TEXTURE_SIZE)\n",
    "    bv -= torch.tensor(editing_model_info['base_object_init']['translation'], device='cuda')\n",
    "    bv /= editing_model_info['base_object_init']['scale']\n",
    "    obj_vft = (bv.unsqueeze(0), bf.unsqueeze(0), bt.unsqueeze(0))\n",
    "\n",
    "    adv_translation = torch.tensor(editing_model_info['translation_param_init']['group'], device='cuda')\n",
    "    adv_translation += torch.tensor(editing_model_info['translation_param_init']['random_multiplier'], device=\"cuda\") \\\n",
    "        * torch.randn((3, ), device='cuda')\n",
    "    adv_translation += torch.tensor([\n",
    "            0.0,\n",
    "            editing_model_info['translation_param_init']['circle_radius'][1] * np.cos(2 * np.pi * 1 / nobj),\n",
    "            editing_model_info['translation_param_init']['circle_radius'][1] * np.sin(2 * np.pi * 1 / nobj)\n",
    "        ], dtype=torch.float, device='cuda')\n",
    "\n",
    "    adv_scaling = torch.tensor(editing_model_info['scaling_param_init']['multiplier'], device='cuda')\n",
    "    adv_rotation = torch.tensor(editing_model_info['rotation_param_init']['absolute'], device='cuda')\n",
    "    adv_vfts = [adv_obj.render_parameters(\n",
    "        affine_transform=wavefront.create_affine_transform(\n",
    "            adv_scaling,\n",
    "            adv_translation,\n",
    "            adv_rotation,\n",
    "            True,\n",
    "        ))]\n",
    "    \n",
    "    vft = combiner.combine_objects(\n",
    "        *([[obj_vft[i]] + [adv_vft[i] for adv_vft in adv_vfts] for i in range(3)])\n",
    "    )\n",
    "    renderer.eye = nr.get_points_from_angles(\n",
    "        editing_model_info['rendering']['camera_distance'], \n",
    "        editing_model_info['rendering']['elevation'], \n",
    "        editing_model_info['rendering']['azimuth'])\n",
    "    \n",
    "    img = renderer(*vft)\n",
    "    npimg = img.cpu()[0].numpy()\n",
    "    plt.figure(figsize=(10, 10))\n",
    "    plt.imshow(np.transpose(npimg, (1,2,0)), interpolation='nearest')\n",
    "\n",
    "if good:\n",
    "    edited_shapenet_json[todo_keys[doing]].append(editing_model_info)\n",
    "    with open('edited_shapenet_json.pkl', 'wb') as f:\n",
    "        pickle.dump(edited_shapenet_json, f)"
   ]
  },
  {
   "cell_type": "code",
   "execution_count": 17,
   "metadata": {},
   "outputs": [
    {
     "name": "stdout",
     "output_type": "stream",
     "text": [
      "defaultdict(<class 'list'>, {'shapenet.bag.0': [{'translation_param_init': {'group': [0.0, 0.0, 0.0], 'relative': [0.0, 1.0, 1.0]}, 'synsetId': '02773838', 'wavefront_file': 'adversarial_objects/data/shapenetcore/ShapeNetCore.v2/02773838/10a885f5971d9d4ce858db1dc3499392/models/model_normalized.obj', 'children': ['03986949'], 'model_folder_name': '10a885f5971d9d4ce858db1dc3499392', 'numInstances': 83, 'base_object_init': {'translation': [0.0, 0.0, 0.0], 'order': '', 'scale': 1.0}, 'name': 'bag,traveling bag,travelling bag,grip,suitcase', 'rendering': {'camera_distance': 2.72, 'elevation': 5.0, 'azimuth': 90.0}}]})\n"
     ]
    }
   ],
   "source": [
    "with open('edited_shapenet_json.pkl', 'rb') as f:\n",
    "    print(pickle.load(f))"
   ]
  },
  {
   "cell_type": "code",
   "execution_count": 43,
   "metadata": {},
   "outputs": [
    {
     "data": {
      "text/plain": [
       "{'model_folder_name': '10a885f5971d9d4ce858db1dc3499392',\n",
       " 'numInstances': 83,\n",
       " 'synsetId': '02773838',\n",
       " 'rendering': {'elevation': 5.0, 'azimuth': 90.0, 'camera_distance': 2.72},\n",
       " 'translation_param_init': {'relative': [0.0, 1.0, 1.0],\n",
       "  'group': [0.0, 0.0, 0.0]},\n",
       " 'children': ['03986949'],\n",
       " 'name': 'bag,traveling bag,travelling bag,grip,suitcase',\n",
       " 'base_object_init': {'order': '',\n",
       "  'translation': [0.0, 0.0, 0.0],\n",
       "  'scale': 1.0},\n",
       " 'wavefront_file': 'adversarial_objects/data/shapenetcore/ShapeNetCore.v2/02773838/10a885f5971d9d4ce858db1dc3499392/models/model_normalized.obj'}"
      ]
     },
     "execution_count": 43,
     "metadata": {},
     "output_type": "execute_result"
    }
   ],
   "source": [
    "shapenet_json['shapenet.bag.0']"
   ]
  },
  {
   "cell_type": "code",
   "execution_count": null,
   "metadata": {},
   "outputs": [],
   "source": []
  }
 ],
 "metadata": {
  "kernelspec": {
   "display_name": "Python [conda env:py36]",
   "language": "python",
   "name": "conda-env-py36-py"
  },
  "language_info": {
   "codemirror_mode": {
    "name": "ipython",
    "version": 3
   },
   "file_extension": ".py",
   "mimetype": "text/x-python",
   "name": "python",
   "nbconvert_exporter": "python",
   "pygments_lexer": "ipython3",
   "version": "3.6.7"
  }
 },
 "nbformat": 4,
 "nbformat_minor": 2
}
